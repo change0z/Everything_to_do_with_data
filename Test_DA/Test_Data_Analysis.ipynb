{
 "cells": [
  {
   "cell_type": "code",
   "execution_count": null,
   "metadata": {},
   "outputs": [],
   "source": []
  }
 ],
 "metadata": {
  "kernelspec": {
   "display_name": "Python 3",
   "language": "python",
   "name": "python3"
  },
  "language_info": {
   "name": "python",
   "version": "3.11.2"
  },
  "orig_nbformat": 4,
  "vscode": {
   "interpreter": {
    "hash": "9106c1d833e1effcf2b5de546f815a5d6486f19ef7e04732d02beaf2c0e5bb53"
   }
  }
 },
 "nbformat": 4,
 "nbformat_minor": 2
}

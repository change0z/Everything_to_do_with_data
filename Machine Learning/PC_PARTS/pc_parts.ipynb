{
 "cells": [
  {
   "cell_type": "code",
   "execution_count": 1,
   "metadata": {},
   "outputs": [],
   "source": [
    "import os\n",
    "import json\n",
    "import pandas as pd\n",
    "\n",
    "def convert_json_to_csv(json_dir, csv_dir):\n",
    "    # Create the CSV directory if it doesn't exist\n",
    "    if not os.path.exists(csv_dir):\n",
    "        os.makedirs(csv_dir)\n",
    "\n",
    "    # Loop through all JSON files in the directory\n",
    "    for filename in os.listdir(json_dir):\n",
    "        if filename.endswith('.json'):\n",
    "            # Load the JSON data\n",
    "            json_path = os.path.join(json_dir, filename)\n",
    "            with open(json_path, 'r') as f:\n",
    "                data = json.load(f)\n",
    "\n",
    "            # Convert the JSON data to a DataFrame\n",
    "            df = pd.json_normalize(data)\n",
    "\n",
    "            # Save the DataFrame as a CSV file\n",
    "            csv_path = os.path.join(csv_dir, os.path.splitext(filename)[0] + '.csv')\n",
    "            df.to_csv(csv_path, index=False)\n",
    "\n",
    "# Example usage\n",
    "json_dir = '/usr/src/app\"/PC_PARTS/dataset'\n",
    "csv_dir = '/usr/src/app\"/PC_PARTS/CSV'\n",
    "convert_json_to_csv(json_dir, csv_dir)\n"
   ]
  },
  {
   "cell_type": "code",
   "execution_count": null,
   "metadata": {},
   "outputs": [],
   "source": []
  }
 ],
 "metadata": {
  "kernelspec": {
   "display_name": "Python 3 (ipykernel)",
   "language": "python",
   "name": "python3"
  }
 },
 "nbformat": 4,
 "nbformat_minor": 2
}
